{
 "cells": [
  {
   "cell_type": "code",
   "execution_count": 15,
   "metadata": {},
   "outputs": [],
   "source": [
    "# Import the requests library.\n",
    "import requests\n",
    "import json\n",
    "# Import the API key.\n",
    "from config import weather_api_key"
   ]
  },
  {
   "cell_type": "code",
   "execution_count": 16,
   "metadata": {},
   "outputs": [
    {
     "data": {
      "text/plain": [
       "<Response [200]>"
      ]
     },
     "execution_count": 16,
     "metadata": {},
     "output_type": "execute_result"
    }
   ],
   "source": [
    "# Starting URL for Weather Map API Call.\n",
    "url = \"https://api.openweathermap.org/data/2.5/weather?lat=35&lon=139&appid=\" + weather_api_key\n",
    "\n",
    "response = requests.get(url)\n",
    "response"
   ]
  },
  {
   "cell_type": "code",
   "execution_count": 17,
   "metadata": {},
   "outputs": [
    {
     "name": "stdout",
     "output_type": "stream",
     "text": [
      "{\n",
      "    \"base\": \"stations\",\n",
      "    \"clouds\": {\n",
      "        \"all\": 100\n",
      "    },\n",
      "    \"cod\": 200,\n",
      "    \"coord\": {\n",
      "        \"lat\": 42.3584,\n",
      "        \"lon\": -71.0598\n",
      "    },\n",
      "    \"dt\": 1649252091,\n",
      "    \"id\": 4930956,\n",
      "    \"main\": {\n",
      "        \"feels_like\": 277.59,\n",
      "        \"humidity\": 89,\n",
      "        \"pressure\": 1015,\n",
      "        \"temp\": 280.84,\n",
      "        \"temp_max\": 281.88,\n",
      "        \"temp_min\": 279.58\n",
      "    },\n",
      "    \"name\": \"Boston\",\n",
      "    \"rain\": {\n",
      "        \"1h\": 1.54\n",
      "    },\n",
      "    \"sys\": {\n",
      "        \"country\": \"US\",\n",
      "        \"id\": 2013408,\n",
      "        \"sunrise\": 1649240280,\n",
      "        \"sunset\": 1649286892,\n",
      "        \"type\": 2\n",
      "    },\n",
      "    \"timezone\": -14400,\n",
      "    \"visibility\": 8047,\n",
      "    \"weather\": [\n",
      "        {\n",
      "            \"description\": \"moderate rain\",\n",
      "            \"icon\": \"10d\",\n",
      "            \"id\": 501,\n",
      "            \"main\": \"Rain\"\n",
      "        },\n",
      "        {\n",
      "            \"description\": \"mist\",\n",
      "            \"icon\": \"50d\",\n",
      "            \"id\": 701,\n",
      "            \"main\": \"Mist\"\n",
      "        }\n",
      "    ],\n",
      "    \"wind\": {\n",
      "        \"deg\": 50,\n",
      "        \"speed\": 5.66\n",
      "    }\n",
      "}\n"
     ]
    }
   ],
   "source": [
    "# Create an endpoint URL for a city.\n",
    "city_url = url + \"&q=\" + \"Boston\"\n",
    "\n",
    "response_city = requests.get(city_url).json()\n",
    "print(json.dumps(response_city, indent=4, sort_keys=True))"
   ]
  }
 ],
 "metadata": {
  "interpreter": {
   "hash": "b3ba2566441a7c06988d0923437866b63cedc61552a5af99d1f4fb67d367b25f"
  },
  "kernelspec": {
   "display_name": "Python 3.9.7 ('base')",
   "language": "python",
   "name": "python3"
  },
  "language_info": {
   "codemirror_mode": {
    "name": "ipython",
    "version": 3
   },
   "file_extension": ".py",
   "mimetype": "text/x-python",
   "name": "python",
   "nbconvert_exporter": "python",
   "pygments_lexer": "ipython3",
   "version": "3.9.7"
  },
  "orig_nbformat": 4
 },
 "nbformat": 4,
 "nbformat_minor": 2
}
